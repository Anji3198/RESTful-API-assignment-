{
  "nbformat": 4,
  "nbformat_minor": 0,
  "metadata": {
    "colab": {
      "provenance": []
    },
    "kernelspec": {
      "name": "python3",
      "display_name": "Python 3"
    },
    "language_info": {
      "name": "python"
    }
  },
  "cells": [
    {
      "cell_type": "markdown",
      "source": [
        "#**Theory Questions**"
      ],
      "metadata": {
        "id": "JqIOzeevuQNI"
      }
    },
    {
      "cell_type": "markdown",
      "source": [
        "1. What is a RESTful API?\n",
        "-  A RESTful API is an interface that allows systems to communicate over HTTP using standard CRUD operations (Create, Read, Update, Delete). It follows REST principles, using URLs for resources and HTTP methods like GET, POST, PUT, DELETE for actions. It's simple, stateless, and widely used in web services."
      ],
      "metadata": {
        "id": "0Anca0tSuYzH"
      }
    },
    {
      "cell_type": "markdown",
      "source": [
        "2. Explain the concept of API specification.\n",
        "- An API specification is a detailed document that defines how an API works. It describes:\n",
        "\n",
        " - Endpoints (URLs)\n",
        "\n",
        " - Methods (GET, POST, etc.)\n",
        "\n",
        " - Request formats (headers, parameters, body)\n",
        "\n",
        " - Response formats (status codes, data structure)\n",
        "\n",
        " - Authentication requirements\n",
        "\n",
        "- It as a blueprint or contract between the API provider and the consumer, ensuring both sides know how to interact correctly. Popular formats include OpenAPI (Swagger) and RAML"
      ],
      "metadata": {
        "id": "tP33tpIPyogX"
      }
    },
    {
      "cell_type": "markdown",
      "source": [
        "3. What is Flask, and why is it popular for building APIs?\n",
        "- Flask is a lightweight Python web framework used to build web apps and APIs.\n",
        "\n",
        "It is  popular for APIs:\n",
        "\n",
        " - Simple and easy to use\n",
        "\n",
        " - Fast to set up\n",
        "\n",
        " - Flexible and customizable\n",
        "\n",
        " - Great for RESTful APIs\n",
        "\n",
        "Perfect for quick development and small-to-medium projects."
      ],
      "metadata": {
        "id": "Fm-bkGDB1s0D"
      }
    },
    {
      "cell_type": "markdown",
      "source": [
        "4. What is routing in Flask?\n",
        "- Routing in Flask is the process of mapping URLs to functions in your code.\n",
        "\n",
        " Each route defines what should happen when a user visits a specific URL."
      ],
      "metadata": {
        "id": "rCHsEe8wBaxB"
      }
    },
    {
      "cell_type": "markdown",
      "source": [
        "5.  How do you create a simple Flask application?\n",
        "- Install Flask :\n",
        "    pip install flask\n",
        "- Create a Python file (e.g., app.py)\n",
        "- Run the app\n"
      ],
      "metadata": {
        "id": "WytFbid5CO8r"
      }
    },
    {
      "cell_type": "markdown",
      "source": [
        "6. What are HTTP methods used in RESTful APIs?\n",
        "\n",
        " The main HTTP methods used in RESTful APIs are:\n",
        "\n",
        "   - GET – Retrieve data (read)\n",
        "\n",
        "   - POST – Create new data\n",
        "\n",
        "   - PUT – Update existing data (replace)\n",
        "\n",
        "   - PATCH – Partially update data\n",
        "\n",
        "   - DELETE – Remove data\n",
        "\n",
        "Each method maps to a CRUD operation:\n",
        "Create → POST, Read → GET, Update → PUT/PATCH, Delete → DELETE."
      ],
      "metadata": {
        "id": "cNr8Gmu3C0jt"
      }
    },
    {
      "cell_type": "markdown",
      "source": [
        "7. What is the purpose of the @app.route() decorator in Flask?\n",
        "- The @app.route() decorator in Flask is used to bind a URL to a function.\n",
        "- It tells Flask which function to run when a specific URL is requested."
      ],
      "metadata": {
        "id": "J-g9my64EEWv"
      }
    },
    {
      "cell_type": "markdown",
      "source": [
        "8. What is the difference between GET and POST HTTP methods?\n",
        "- The key differences between GET and POST HTTP methods are:\n",
        "\n",
        "-  **GET**\n",
        "  - Purpose is to retrieve data\n",
        "  - Data sent in URL (as query parameters)\n",
        "  - Visible in browser URL\n",
        "  - Use case is reading infor(e.g. search)\n",
        "  - Can be cached\n",
        "\n",
        "- **POST**\n",
        "  - Purpose is to submit or send data\n",
        "  - Data is sent in request body\n",
        "  - Hidden from URL( more secure)\n",
        "  - Use case is creating or submitting data\n",
        "  - Usally not catched\n",
        "  "
      ],
      "metadata": {
        "id": "Vhf1l8vGGZ-o"
      }
    },
    {
      "cell_type": "markdown",
      "source": [
        "9. How do you handle errors in Flask APIs?\n",
        "- Use `@app.errorhandler`, `try-except`, and `abort()` to gracefully handle errors and return clean API responses.\n"
      ],
      "metadata": {
        "id": "A_ho19AmHcSX"
      }
    },
    {
      "cell_type": "markdown",
      "source": [
        "10.  How do you connect Flask to a SQL database?\n",
        "\n",
        "Use Flask-SQLAlchemy to configure the DB URI, define models, and manage your SQL database easily\n",
        "\n",
        "Steps to connect Flask to a SQL database:\n",
        "1. Install Flask-SQLAlchemy\n",
        "2. Basic Setup\n",
        "3. Define a Model\n",
        "4. Create the Tables"
      ],
      "metadata": {
        "id": "FJ3Pg7wBH2qq"
      }
    },
    {
      "cell_type": "markdown",
      "source": [
        "11.  What is the role of Flask-SQLAlchemy?\n",
        "- Flask-SQLAlchemy is an extension for Flask that makes it easier to work with SQL databases using SQLAlchemy, a powerful Python ORM (Object Relational Mapper).\n",
        "\n",
        " Key roles are mentioned below:\n",
        "  - Database connection\n",
        "  - Model Definition\n",
        "  - CRUD Operations\n",
        "  - Query Interface\n",
        "  - Schema Management"
      ],
      "metadata": {
        "id": "Q_22CVAgIWBy"
      }
    },
    {
      "cell_type": "markdown",
      "source": [
        "12. What are Flask blueprints, and how are they useful?\n",
        "- Flask Blueprints are a feature in the Flask web framework that allow you to organize your application into modular components. Instead of having one massive app.py file with all routes, logic, and configurations, Blueprints help split your app into multiple, reusable parts.\n",
        "\n",
        "- Blueprints are useful because:\n",
        " - We can break a large application into smaller, manageable modules.\n",
        " - It can be reused across different applications (like plugins).\n",
        " - It keeps code organized by separating concerns( e.g. user auth, blog admin, API)\n",
        " - It is easier for teams to work on different paths of the application without stepping on each other's toes.\n",
        ""
      ],
      "metadata": {
        "id": "Yal6CGT5Ixz9"
      }
    },
    {
      "cell_type": "markdown",
      "source": [
        "13. What is the purpose of Flask's request object?\n",
        "\n",
        "The `request` object in Flask is a global context object that provides access to incoming request data from the client (e.g., browser, API call).\n",
        "\n",
        "Purpose of Flask's `request` object.\n",
        "\n",
        "- To access request data - get form data, query strings, JSOn, headers , etc.\n",
        "- To understand client request - know what method (GET, POST, etc.) was used, the URL. and more\n",
        "- it handle user input - process data submitted via forms of API calls\n"
      ],
      "metadata": {
        "id": "qpD8pKk97Bo9"
      }
    },
    {
      "cell_type": "markdown",
      "source": [
        "14. How do you create a RESTful API endpoint using Flask?\n",
        "- Flask provides a simple way to handle HTTP requests, which is essential for building RESTful APIs.\n",
        "\n",
        "Steps to create a RESTful API in flask.\n",
        "  - Set up Flask Application.\n",
        "  - Define routes for HTTP methods : RESTful APIs typically use the following HTTP mthods:\n",
        "    - `GET`: Retrieve data\n",
        "    - `POST`: Create data\n",
        "    - `PUT`: Update data\n",
        "    - `DELETE`: Delete data\n",
        "  - Use JSON for responses:"
      ],
      "metadata": {
        "id": "OMzytPtf-HME"
      }
    },
    {
      "cell_type": "markdown",
      "source": [
        "15. What is the purpose of Flask's jsonify() function?\n",
        "- Flask's `jsonify()` function is used to **convert Python data structures (like dictionaries or lists) into JSON format** and automatically **set the `Content-Type` header to `application/json`** for the HTTP response. It simplifies returning JSON responses from API endpoints in Flask applications.\n"
      ],
      "metadata": {
        "id": "ghFU_tDbMbeL"
      }
    },
    {
      "cell_type": "markdown",
      "source": [
        "16.  Explain Flask’s url_for() function.\n",
        "- Flask’s `url_for()` function dynamically generates the URL for a given route based on its endpoint name. It helps avoid hardcoding URLs, making your app more flexible. It also supports generating URLs with dynamic parts (like route parameters) and for static files.\n",
        "\n",
        "\n"
      ],
      "metadata": {
        "id": "MTQzJu_Wyjaj"
      }
    },
    {
      "cell_type": "markdown",
      "source": [
        "17. How does Flask handle static files (CSS, JavaScript, etc.)?\n",
        "- Flask automatically serves static files from the static/ folder in your project directory. You can access them in your HTML using `url_for('static', filename='yourfile.css')`. By default, these files are available at the `/static`/ URL path."
      ],
      "metadata": {
        "id": "g5mik3__5vAr"
      }
    },
    {
      "cell_type": "markdown",
      "source": [
        "18. What is an API specification, and how does it help in building a Flask API?\n",
        "- An API specification is a detailed description of how an API works—its endpoints, request/response formats, methods, and data types. In Flask, it helps by providing a clear blueprint for development, testing, and documentation, ensuring consistency and easier collaboration between frontend, backend, and external developers."
      ],
      "metadata": {
        "id": "mUVtvvwh6L54"
      }
    },
    {
      "cell_type": "markdown",
      "source": [
        "19. What are HTTP status codes, and why are they important in a Flask API?\n",
        "- HTTP status codes are standard codes returned by a server to indicate the result of a client's request (e.g., success, error). In a Flask API, they are important because they help clients understand the outcome of their request (e.g., `200 OK`, `404 Not Found`, `400 Bad Request`), enabling proper handling and debugging."
      ],
      "metadata": {
        "id": "fZb4gcHS8Al0"
      }
    },
    {
      "cell_type": "markdown",
      "source": [
        "20. How do you handle POST requests in Flask?\n",
        "- In Flask, you handle POST requests by setting `methods=['POST']` in your route and using `request` to access the submitted data (e.g., `request.form` for form data or `request.get_json()` for JSON)."
      ],
      "metadata": {
        "id": "f66eZI2_8fs6"
      }
    },
    {
      "cell_type": "markdown",
      "source": [
        "21. How would you secure a Flask API?\n",
        "- To secure a Flask API, you can:\n",
        "\n",
        "   - Use HTTPS to encrypt data.\n",
        "\n",
        "   - Implement authentication (e.g., API keys, JWT).\n",
        "\n",
        "   - Validate input to prevent injections.\n",
        "\n",
        "   - Use rate limiting to prevent abuse.\n",
        "\n",
        "   - Enable CORS carefully to control access.\n",
        "\n",
        "   - Sanitize error messages to avoid leaking info.\n",
        "\n",
        "These steps help protect your API from unauthorized access and common attacks."
      ],
      "metadata": {
        "id": "lflGSuo39AQC"
      }
    },
    {
      "cell_type": "markdown",
      "source": [
        "22. What is the significance of the Flask-RESTful extension?\n",
        "- Flask-RESTful simplifies building REST APIs in Flask by providing tools to define resources, handle request parsing, and manage HTTP methods more cleanly and efficiently. It helps organize code and follow REST principles easily."
      ],
      "metadata": {
        "id": "YQDPKoMq9XOq"
      }
    },
    {
      "cell_type": "markdown",
      "source": [
        "23. What is the role of Flask’s session object?\n",
        "- Flask’s session object stores data across requests for a user (e.g., login status). It uses cookies to keep client-specific information securely between requests."
      ],
      "metadata": {
        "id": "3-DrumTE9piq"
      }
    },
    {
      "cell_type": "markdown",
      "source": [
        "#**Practical Questions**"
      ],
      "metadata": {
        "id": "t5TBOsFQ-AW6"
      }
    },
    {
      "cell_type": "code",
      "source": [
        "# 1: How do you create a basic Flask application?\n",
        "\n",
        "!pip install Flask\n",
        "\n",
        "from flask import Flask\n",
        "\n",
        "app = Flask(__name__)\n",
        "\n",
        "@app.route('/')\n",
        "def hello_world():\n",
        "    return 'Hello, World!'\n",
        "\n",
        "if __name__ == '__main__':\n",
        "    # This part is for running locally. In a Colab notebook, you'd typically run it differently.\n",
        "    # For a simple example in Colab, you can use Flask's built-in server and ngrok for external access.\n",
        "    # However, running a persistent server directly in a Colab cell is not standard.\n",
        "    # If you were writing a script to deploy elsewhere, this would be `app.run(debug=True)`\n",
        "    # For demonstration purposes in Colab:\n",
        "    print(\"Flask app created. To run it in a Colab environment for testing, you'd typically use ngrok.\")\n",
        "    print(\"Example (requires ngrok):\")\n",
        "    print(\"from flask_ngrok import run_with_ngrok\")\n",
        "    print(\"run_with_ngrok(app)\")\n",
        "    # To actually run: uncomment the following line in a new cell after installing flask-ngrok\n",
        "    # app.run()\n",
        "\n"
      ],
      "metadata": {
        "colab": {
          "base_uri": "https://localhost:8080/"
        },
        "id": "AfIFTHh7-V6-",
        "outputId": "3e033022-d850-406d-ebe3-a2d2bd523814"
      },
      "execution_count": 1,
      "outputs": [
        {
          "output_type": "stream",
          "name": "stdout",
          "text": [
            "Requirement already satisfied: Flask in /usr/local/lib/python3.11/dist-packages (3.1.0)\n",
            "Requirement already satisfied: Werkzeug>=3.1 in /usr/local/lib/python3.11/dist-packages (from Flask) (3.1.3)\n",
            "Requirement already satisfied: Jinja2>=3.1.2 in /usr/local/lib/python3.11/dist-packages (from Flask) (3.1.6)\n",
            "Requirement already satisfied: itsdangerous>=2.2 in /usr/local/lib/python3.11/dist-packages (from Flask) (2.2.0)\n",
            "Requirement already satisfied: click>=8.1.3 in /usr/local/lib/python3.11/dist-packages (from Flask) (8.1.8)\n",
            "Requirement already satisfied: blinker>=1.9 in /usr/local/lib/python3.11/dist-packages (from Flask) (1.9.0)\n",
            "Requirement already satisfied: MarkupSafe>=2.0 in /usr/local/lib/python3.11/dist-packages (from Jinja2>=3.1.2->Flask) (3.0.2)\n",
            "Flask app created. To run it in a Colab environment for testing, you'd typically use ngrok.\n",
            "Example (requires ngrok):\n",
            "from flask_ngrok import run_with_ngrok\n",
            "run_with_ngrok(app)\n"
          ]
        }
      ]
    },
    {
      "cell_type": "code",
      "source": [
        "# 2.How do you serve static files like images or CSS in Flask?\n",
        "\n"
      ],
      "metadata": {
        "id": "LlnHEemR-aig"
      },
      "execution_count": null,
      "outputs": []
    },
    {
      "cell_type": "code",
      "source": [
        "# 2.How do you serve static files like images or CSS in Flask?\n",
        "\n",
        "# Flask automatically serves files from a folder named 'static'\n",
        "# in the same directory as your Flask application file.\n",
        "\n",
        "# Create a 'static' folder if you don't have one already.\n",
        "# Inside 'static', you can create subfolders for organization,\n",
        "# e.g., 'static/images', 'static/css', 'static/js'.\n",
        "\n",
        "# Example of accessing a static file in an HTML template:\n",
        "# <link rel=\"stylesheet\" href=\"{{ url_for('static', filename='css/style.css') }}\">\n",
        "# <img src=\"{{ url_for('static', filename='images/logo.png') }}\" alt=\"Logo\">\n",
        "\n",
        "# Flask handles the routing for the /static/ URL path by default,\n",
        "# mapping requests to files within the 'static' folder.\n",
        "\n",
        "# No code is needed here, as Flask's static file serving is built-in\n",
        "# and based on the directory structure. The code for the routes\n",
        "# and templates would implicitly use this feature via url_for.\n",
        "\n",
        "# For completeness, here's a simple example demonstrating how to use\n",
        "# url_for in a template context (which is not directly runnable in this cell\n",
        "# without a full template setup, but shows the principle).\n",
        "\n",
        "# Example (Conceptual):\n",
        "# from flask import render_template\n",
        "#\n",
        "# @app.route('/show_static_example')\n",
        "# def show_static_example():\n",
        "#     # Assuming you have a template file named 'static_example.html'\n",
        "#     # in a 'templates' folder, and a 'static' folder with files.\n",
        "#     return render_template('static_example.html')\n",
        "\n",
        "# Content of conceptual 'templates/static_example.html':\n",
        "# <!DOCTYPE html>\n",
        "# <html>\n",
        "# <head>\n",
        "#     <title>Static File Example</title>\n",
        "#     <link rel=\"stylesheet\" href=\"{{ url_for('static', filename='css/style.css') }}\">\n",
        "# </head>\n",
        "# <body>\n",
        "#     <h1>Static Files</h1>\n",
        "#     <img src=\"{{ url_for('static', filename='images/example.jpg') }}\" alt=\"An example image\">\n",
        "#     <script src=\"{{ url_for('static', filename='js/script.js') }}\"></script>\n",
        "# </body>\n",
        "# </html>\n",
        "\n",
        "# In a Colab environment where you might not have a full file system\n",
        "# setup easily accessible for HTML templates, you can verify this by\n",
        "# manually creating the 'static' folder and files and then trying to\n",
        "# access them via a route that returns HTML.\n",
        "\n",
        "# Example of a simple route returning HTML that references a static file:\n",
        "from flask import Flask, escape\n",
        "\n",
        "app = Flask(__name__)\n",
        "\n",
        "@app.route('/static_demo')\n",
        "def static_demo():\n",
        "    # To make this work in Colab, you need a 'static' folder\n",
        "    # in the same directory as this script, and a file like\n",
        "    # static/css/style.css inside it.\n",
        "    # Example content for static/css/style.css:\n",
        "    # body { background-color: lightblue; }\n",
        "    html_content = \"\"\"\n",
        "    <!doctype html>\n",
        "    <html>\n",
        "    <head>\n",
        "      <title>Static Demo</title>\n",
        "      <link rel=\"stylesheet\" href=\"/static/css/style.css\">\n",
        "    </head>\n",
        "    <body>\n",
        "      <h1>Serving Static Files</h1>\n",
        "      <p>If the background is lightblue, the static CSS is working!</p>\n",
        "      <!-- You could also reference images similarly: <img src=\"/static/images/logo.png\"> -->\n",
        "    </body>\n",
        "    </html>\n",
        "    \"\"\"\n",
        "    return html_content\n",
        "\n",
        "# In a real Flask app, you would use render_template to keep HTML separate.\n",
        "# The key is placing static files in the 'static' directory and referencing\n",
        "# them using `url_for('static', filename='path/to/your/file')` in templates\n",
        "# or directly using the `/static/path/to/your/file` URL path.\n",
        "\n",
        "# Note: Running this specific Flask app in Colab would still require ngrok\n",
        "# or a similar setup to make it accessible from outside the Colab environment.\n",
        "# The provided route `static_demo` shows how the HTML would link to a static file.\n",
        "# You would need to manually create the `static/css/style.css` file in the Colab environment\n",
        "# for the CSS link to potentially work if you run the Flask app."
      ],
      "metadata": {
        "colab": {
          "base_uri": "https://localhost:8080/",
          "height": 401
        },
        "id": "3v9347lEBPhV",
        "outputId": "a0bd8a4e-3ace-41d8-8d6d-dc6fb1e2edfc"
      },
      "execution_count": 3,
      "outputs": [
        {
          "output_type": "error",
          "ename": "ImportError",
          "evalue": "cannot import name 'escape' from 'flask' (/usr/local/lib/python3.11/dist-packages/flask/__init__.py)",
          "traceback": [
            "\u001b[0;31m---------------------------------------------------------------------------\u001b[0m",
            "\u001b[0;31mImportError\u001b[0m                               Traceback (most recent call last)",
            "\u001b[0;32m<ipython-input-3-8801c6c35059>\u001b[0m in \u001b[0;36m<cell line: 0>\u001b[0;34m()\u001b[0m\n\u001b[1;32m     54\u001b[0m \u001b[0;34m\u001b[0m\u001b[0m\n\u001b[1;32m     55\u001b[0m \u001b[0;31m# Example of a simple route returning HTML that references a static file:\u001b[0m\u001b[0;34m\u001b[0m\u001b[0;34m\u001b[0m\u001b[0m\n\u001b[0;32m---> 56\u001b[0;31m \u001b[0;32mfrom\u001b[0m \u001b[0mflask\u001b[0m \u001b[0;32mimport\u001b[0m \u001b[0mFlask\u001b[0m\u001b[0;34m,\u001b[0m \u001b[0mescape\u001b[0m\u001b[0;34m\u001b[0m\u001b[0;34m\u001b[0m\u001b[0m\n\u001b[0m\u001b[1;32m     57\u001b[0m \u001b[0;34m\u001b[0m\u001b[0m\n\u001b[1;32m     58\u001b[0m \u001b[0mapp\u001b[0m \u001b[0;34m=\u001b[0m \u001b[0mFlask\u001b[0m\u001b[0;34m(\u001b[0m\u001b[0m__name__\u001b[0m\u001b[0;34m)\u001b[0m\u001b[0;34m\u001b[0m\u001b[0;34m\u001b[0m\u001b[0m\n",
            "\u001b[0;31mImportError\u001b[0m: cannot import name 'escape' from 'flask' (/usr/local/lib/python3.11/dist-packages/flask/__init__.py)",
            "",
            "\u001b[0;31m---------------------------------------------------------------------------\u001b[0;32m\nNOTE: If your import is failing due to a missing package, you can\nmanually install dependencies using either !pip or !apt.\n\nTo view examples of installing some common dependencies, click the\n\"Open Examples\" button below.\n\u001b[0;31m---------------------------------------------------------------------------\u001b[0m\n"
          ],
          "errorDetails": {
            "actions": [
              {
                "action": "open_url",
                "actionText": "Open Examples",
                "url": "/notebooks/snippets/importing_libraries.ipynb"
              }
            ]
          }
        }
      ]
    },
    {
      "cell_type": "code",
      "source": [
        "# 3. How do you define different routes with different HTTP methods in Flask?\n",
        "\n",
        "from flask import Flask, escape, request\n",
        "\n",
        "app = Flask(__name__)\n",
        "\n",
        "# Route that accepts only GET requests\n",
        "@app.route('/get_only', methods=['GET'])\n",
        "def get_only():\n",
        "    return \"This endpoint only accepts GET requests.\"\n",
        "\n",
        "# Route that accepts only POST requests\n",
        "@app.route('/post_only', methods=['POST'])\n",
        "def post_only():\n",
        "    # Example of accessing data from a POST request\n",
        "    data = request.form.get('name') or request.get_json()\n",
        "    return f\"This endpoint only accepts POST requests. Received data: {data}\"\n",
        "\n",
        "# Route that accepts both GET and POST requests\n",
        "@app.route('/get_and_post', methods=['GET', 'POST'])\n",
        "def get_and_post():\n",
        "    if request.method == 'POST':\n",
        "        # Handle POST request logic\n",
        "        data = request.form.get('name') or request.get_json()\n",
        "        return f\"This endpoint received a POST request. Data: {data}\"\n",
        "    else:\n",
        "        # Handle GET request logic\n",
        "        return \"This endpoint accepts both GET and POST requests. This was a GET request.\"\n",
        "\n",
        "# Route that accepts multiple methods including PUT and DELETE\n",
        "@app.route('/resource/<resource_id>', methods=['GET', 'PUT', 'DELETE'])\n",
        "def handle_resource(resource_id):\n",
        "    if request.method == 'GET':\n",
        "        return f\"Getting resource {resource_id}\"\n",
        "    elif request.method == 'PUT':\n",
        "        # Example of accessing data from a PUT request (often JSON)\n",
        "        data = request.get_json()\n",
        "        return f\"Updating resource {resource_id} with data: {data}\"\n",
        "    elif request.method == 'DELETE':\n",
        "        return f\"Deleting resource {resource_id}\"\n",
        "\n",
        "\n",
        "# To run this in Colab, you would typically use flask-ngrok\n",
        "# !pip install flask-ngrok\n",
        "# from flask_ngrok import run_with_ngrok\n",
        "# run_with_ngrok(app)\n",
        "# app.run()\n",
        "\n",
        "# After running the cell and getting the ngrok URL, you can test\n",
        "# these endpoints using tools like `curl` or Postman/Insomnia.\n",
        "\n",
        "# Example curl commands:\n",
        "# GET: curl <ngrok_url>/get_only\n",
        "# POST: curl -X POST -d \"name=Test\" <ngrok_url>/post_only\n",
        "# POST (JSON): curl -X POST -H \"Content-Type: application/json\" -d '{\"name\": \"TestJson\"}' <ngrok_url>/post_only\n",
        "# GET: curl <ngrok_url>/get_and_post\n",
        "# POST: curl -X POST -d \"message=Hello\" <ngrok_url>/get_and_post\n",
        "# GET: curl <ngrok_url>/resource/123\n",
        "# PUT: curl -X PUT -H \"Content-Type: application/json\" -d '{\"status\": \"active\"}' <ngrok_url>/resource/456\n",
        "# DELETE: curl -X DELETE <ngrok_url>/resource/789\n",
        "\n",
        "print(\"Flask app configured with routes for different HTTP methods.\")\n",
        "print(\"To test, install and use flask-ngrok and run app.run()\")\n"
      ],
      "metadata": {
        "colab": {
          "base_uri": "https://localhost:8080/",
          "height": 418
        },
        "id": "gv1IOKFZBbEH",
        "outputId": "6d96c9f3-1156-4f37-c6b3-60456b8519d0"
      },
      "execution_count": 1,
      "outputs": [
        {
          "output_type": "error",
          "ename": "ImportError",
          "evalue": "cannot import name 'escape' from 'flask' (/usr/local/lib/python3.11/dist-packages/flask/__init__.py)",
          "traceback": [
            "\u001b[0;31m---------------------------------------------------------------------------\u001b[0m",
            "\u001b[0;31mImportError\u001b[0m                               Traceback (most recent call last)",
            "\u001b[0;32m<ipython-input-1-7965ac24791c>\u001b[0m in \u001b[0;36m<cell line: 0>\u001b[0;34m()\u001b[0m\n\u001b[1;32m      1\u001b[0m \u001b[0;31m# 3. How do you define different routes with different HTTP methods in Flask?\u001b[0m\u001b[0;34m\u001b[0m\u001b[0;34m\u001b[0m\u001b[0m\n\u001b[1;32m      2\u001b[0m \u001b[0;34m\u001b[0m\u001b[0m\n\u001b[0;32m----> 3\u001b[0;31m \u001b[0;32mfrom\u001b[0m \u001b[0mflask\u001b[0m \u001b[0;32mimport\u001b[0m \u001b[0mFlask\u001b[0m\u001b[0;34m,\u001b[0m \u001b[0mescape\u001b[0m\u001b[0;34m,\u001b[0m \u001b[0mrequest\u001b[0m\u001b[0;34m\u001b[0m\u001b[0;34m\u001b[0m\u001b[0m\n\u001b[0m\u001b[1;32m      4\u001b[0m \u001b[0;34m\u001b[0m\u001b[0m\n\u001b[1;32m      5\u001b[0m \u001b[0mapp\u001b[0m \u001b[0;34m=\u001b[0m \u001b[0mFlask\u001b[0m\u001b[0;34m(\u001b[0m\u001b[0m__name__\u001b[0m\u001b[0;34m)\u001b[0m\u001b[0;34m\u001b[0m\u001b[0;34m\u001b[0m\u001b[0m\n",
            "\u001b[0;31mImportError\u001b[0m: cannot import name 'escape' from 'flask' (/usr/local/lib/python3.11/dist-packages/flask/__init__.py)",
            "",
            "\u001b[0;31m---------------------------------------------------------------------------\u001b[0;32m\nNOTE: If your import is failing due to a missing package, you can\nmanually install dependencies using either !pip or !apt.\n\nTo view examples of installing some common dependencies, click the\n\"Open Examples\" button below.\n\u001b[0;31m---------------------------------------------------------------------------\u001b[0m\n"
          ],
          "errorDetails": {
            "actions": [
              {
                "action": "open_url",
                "actionText": "Open Examples",
                "url": "/notebooks/snippets/importing_libraries.ipynb"
              }
            ]
          }
        }
      ]
    },
    {
      "cell_type": "code",
      "source": [
        "# 4. How do you render HTML templates in Flask?\n",
        "\n",
        "from flask import Flask, render_template\n",
        "\n",
        "app = Flask(__name__)\n",
        "\n",
        "@app.route('/')\n",
        "def index():\n",
        "    # You need a file named 'index.html' inside the 'templates' folder\n",
        "    # Example content for templates/index.html:\n",
        "    # <!doctype html>\n",
        "    # <html>\n",
        "    # <head><title>{{ title }}</title></head>\n",
        "    # <body>\n",
        "    #   <h1>Hello, {{ name }}!</h1>\n",
        "    # </body>\n",
        "    # </html>\n",
        "    return render_template('index.html', title='My Page', name='World')\n",
        "\n",
        "@app.route('/user/<name>')\n",
        "def user_profile(name):\n",
        "    # You need a file named 'profile.html' inside the 'templates' folder\n",
        "    # Example content for templates/profile.html:\n",
        "    # <!doctype html>\n",
        "    # <html>\n",
        "    # <head><title>Profile for {{ user }}</title></head>\n",
        "    # <body>\n",
        "    #   <h1>User Profile: {{ user }}</h1>\n",
        "    # </body>\n",
        "    # </html>\n",
        "    return render_template('profile.html', user=name)\n",
        "\n",
        "\n",
        "# To run this in Colab, you would typically use flask-ngrok\n",
        "# !pip install flask-ngrok\n",
        "# from flask_ngrok import run_with_ngrok\n",
        "# run_with_ngrok(app)\n",
        "# app.run()\n",
        "\n",
        "print(\"Flask app configured to render templates.\")\n",
        "print(\"Create a 'templates' folder and put your .html files inside.\")\n",
        "print(\"Example: create templates/index.html and templates/profile.html\")\n",
        "print(\"To test, install and use flask-ngrok and run app.run()\")\n"
      ],
      "metadata": {
        "id": "KikRBYtU_XR0"
      },
      "execution_count": null,
      "outputs": []
    },
    {
      "cell_type": "code",
      "source": [
        "# 5.  How can you generate URLs for routes in Flask using url_for?\n",
        "\n",
        "from flask import Flask, url_for, render_template # Import url_for and render_template\n",
        "\n",
        "app = Flask(__name__)\n",
        "\n",
        "# Example route with a static endpoint name 'hello_world'\n",
        "@app.route('/')\n",
        "def hello_world():\n",
        "    # Inside a template, you would use {{ url_for('hello_world') }}\n",
        "    # In Python code, you would call url_for('hello_world')\n",
        "    return 'Hello, World!'\n",
        "\n",
        "# Example route with a dynamic part and endpoint name 'user_profile'\n",
        "@app.route('/user/<name>')\n",
        "def user_profile(name):\n",
        "    # To generate a URL like /user/Alice, you'd use url_for('user_profile', name='Alice')\n",
        "    return f'Profile of {escape(name)}'\n",
        "\n",
        "# Example route with a dynamic part and endpoint name 'handle_resource'\n",
        "@app.route('/resource/<resource_id>', methods=['GET', 'PUT', 'DELETE'])\n",
        "def handle_resource(resource_id):\n",
        "    # To generate a URL like /resource/123, you'd use url_for('handle_resource', resource_id=123)\n",
        "    if request.method == 'GET':\n",
        "        return f\"Getting resource {resource_id}\"\n",
        "    elif request.method == 'PUT':\n",
        "        data = request.get_json()\n",
        "        return f\"Updating resource {resource_id} with data: {data}\"\n",
        "    elif request.method == 'DELETE':\n",
        "        return f\"Deleting resource {resource_id}\"\n",
        "\n",
        "\n",
        "# You can use url_for in your Python code or within templates.\n",
        "# Using url_for in a route to generate a link:\n",
        "@app.route('/links')\n",
        "def show_links():\n",
        "    # Generate URL for the root route ('hello_world')\n",
        "    home_url = url_for('hello_world')\n",
        "\n",
        "    # Generate URL for the 'user_profile' route with a specific name\n",
        "    alice_profile_url = url_for('user_profile', name='Alice')\n",
        "\n",
        "    # Generate URL for the 'handle_resource' route with a specific ID\n",
        "    resource_url = url_for('handle_resource', resource_id=999)\n",
        "\n",
        "    return f\"\"\"\n",
        "    <h1>Generated URLs:</h1>\n",
        "    <p>Home: <a href=\"{home_url}\">{home_url}</a></p>\n",
        "    <p>Alice's Profile: <a href=\"{alice_profile_url}\">{alice_profile_url}</a></p>\n",
        "    <p>Resource 999: <a href=\"{resource_url}\">{resource_url}</a></p>\n",
        "    \"\"\"\n",
        "\n",
        "# Using url_for in a template (conceptual, requires templates folder and files)\n",
        "# Imagine you have a template called 'index.html' in a 'templates' folder:\n",
        "# --- templates/index.html ---\n",
        "# <!doctype html>\n",
        "# <html>\n",
        "# <head><title>Using url_for in Template</title></head>\n",
        "# <body>\n",
        "#   <h1>Links</h1>\n",
        "#   <p><a href=\"{{ url_for('hello_world') }}\">Go to Home</a></p>\n",
        "#   <p><a href=\"{{ url_for('user_profile', name='Bob') }}\">Go to Bob's Profile</a></p>\n",
        "#   <p><a href=\"{{ url_for('static', filename='css/style.css') }}\">Link to Static CSS</a></p>\n",
        "# </body>\n",
        "# </html>\n",
        "# ------------------------------\n",
        "\n",
        "# Route to render the template using url_for inside it\n",
        "@app.route('/template_demo')\n",
        "def template_demo():\n",
        "    # This would require a 'templates/index.html' file as shown above\n",
        "    # return render_template('index.html')\n",
        "    return \"Template rendering demo (requires templates/index.html)\"\n",
        "\n",
        "\n",
        "# To run this in Colab with ngrok:\n",
        "# !pip install flask-ngrok\n",
        "# from flask_ngrok import run_with_ngrok\n",
        "# run_with_ngrok(app)\n",
        "# app.run()\n",
        "\n",
        "print(\"Flask app configured to demonstrate url_for.\")\n",
        "print(\"Run the app using flask-ngrok and navigate to the /links or /template_demo routes.\")\n"
      ],
      "metadata": {
        "id": "YJthwbQk_zMA"
      },
      "execution_count": null,
      "outputs": []
    },
    {
      "cell_type": "code",
      "source": [
        "# 6. How do you handle forms in Flask?\n",
        "\n",
        "from flask import Flask, render_template, request, redirect, url_for\n",
        "\n",
        "app = Flask(__name__)\n",
        "# A secret key is needed for session management, which is often used with forms (e.g., flash messages)\n",
        "app.config['SECRET_KEY'] = 'your_secret_key_here' # Replace with a real secret key\n",
        "\n",
        "@app.route('/form', methods=['GET', 'POST'])\n",
        "def handle_form():\n",
        "    if request.method == 'POST':\n",
        "        # Handle the POST request - process the form data\n",
        "        username = request.form.get('username')\n",
        "        password = request.form.get('password')\n",
        "\n",
        "        if username and password:\n",
        "            # Here you would typically process the data, e.g.,\n",
        "            # - Validate username/password\n",
        "            # - Save to database\n",
        "            # - Perform some action based on the input\n",
        "\n",
        "            print(f\"Received form submission:\")\n",
        "            print(f\"  Username: {username}\")\n",
        "            print(f\"  Password: {password}\")\n",
        "\n",
        "            # Redirect the user after successful submission to prevent\n",
        "            # form resubmission if they refresh the page.\n",
        "            # You might redirect to a success page or back to a list view.\n",
        "            return redirect(url_for('form_success', submitted_username=username))\n",
        "        else:\n",
        "            # Handle cases where fields are missing (basic validation)\n",
        "            error = \"Username and password are required.\"\n",
        "            # Re-render the form with an error message\n",
        "            return render_template('form.html', error=error)\n",
        "\n",
        "    else:\n",
        "        # Handle the GET request - display the form\n",
        "        # You would need a 'templates' folder with a 'form.html' file\n",
        "        return render_template('form.html')\n",
        "\n",
        "@app.route('/form/success')\n",
        "def form_success():\n",
        "    # Get the username from the query parameters if redirected from /form\n",
        "    submitted_username = request.args.get('submitted_username', 'User')\n",
        "    return f'Form submitted successfully! Hello, {escape(submitted_username)}!'\n",
        "\n",
        "# --- Conceptual template file: templates/form.html ---\n",
        "# <!doctype html>\n",
        "# <html>\n",
        "# <head><title>Flask Form Example</title></head>\n",
        "# <body>\n",
        "#   <h1>Enter Details</h1>\n",
        "#   {% if error %}\n",
        "#     <p style=\"color: red;\">{{ error }}</p>\n",
        "#   {% endif %}\n",
        "#   <form method=\"POST\">\n",
        "#     <div>\n",
        "#       <label for=\"username\">Username:</label>\n",
        "#       <input type=\"text\" id=\"username\" name=\"username\" required>\n",
        "#     </div>\n",
        "#     <div>\n",
        "#       <label for=\"password\">Password:</label>\n",
        "#       <input type=\"password\" id=\"password\" name=\"password\" required>\n",
        "#     </div>\n",
        "#     <button type=\"submit\">Submit</button>\n",
        "#   </form>\n",
        "# </body>\n",
        "# </html>\n",
        "# ------------------------------------------------------\n",
        "\n",
        "# To run this in Colab with ngrok:\n",
        "# !pip install flask-ngrok\n",
        "# from flask_ngrok import run_with_ngrok\n",
        "# run_with_ngrok(app)\n",
        "# app.run()\n",
        "\n",
        "print(\"Flask app configured to handle forms.\")\n",
        "print(\"Create a 'templates' folder and put a 'form.html' file inside.\")\n",
        "print(\"To test, install and use flask-ngrok and run app.run().\")\n",
        "print(\"Then navigate to the /form route.\")\n"
      ],
      "metadata": {
        "id": "V_KcwDH3_82D"
      },
      "execution_count": null,
      "outputs": []
    },
    {
      "cell_type": "code",
      "source": [
        "# 7.  How can you validate form data in Flask?\n",
        "\n",
        "app = Flask(__name__)\n",
        "app.config['SECRET_KEY'] = 'your_secret_key_here' # Needed for sessions/flash messages if used\n",
        "\n",
        "@app.route('/manual_validate', methods=['GET', 'POST'])\n",
        "def manual_validate_form():\n",
        "    if request.method == 'POST':\n",
        "        username = request.form.get('username')\n",
        "        password = request.form.get('password')\n",
        "        email = request.form.get('email')\n",
        "\n",
        "        errors = {}\n",
        "\n",
        "        # Basic validation checks\n",
        "        if not username:\n",
        "            errors['username'] = 'Username is required.'\n",
        "        elif len(username) < 4:\n",
        "            errors['username'] = 'Username must be at least 4 characters.'\n",
        "\n",
        "        if not password:\n",
        "            errors['password'] = 'Password is required.'\n",
        "        elif len(password) < 6:\n",
        "            errors['password'] = 'Password must be at least 6 characters.'\n",
        "\n",
        "        if not email:\n",
        "            errors['email'] = 'Email is required.'\n",
        "        elif '@' not in email: # Simple email format check\n",
        "             errors['email'] = 'Invalid email format.'\n",
        "        # More robust email validation would use regex or a library\n",
        "\n",
        "        if errors:\n",
        "            # If there are errors, re-render the form with error messages\n",
        "            return render_template('manual_form.html', errors=errors,\n",
        "                                   # Pass back the submitted values to pre-fill the form\n",
        "                                   username=username, email=email)\n",
        "        else:\n",
        "            # Data is valid, process it\n",
        "            print(f\"Manual Validation Success:\")\n",
        "            print(f\"  Username: {username}\")\n",
        "            print(f\"  Password: {password}\") # Be careful not to log plain passwords\n",
        "            print(f\"  Email: {email}\")\n",
        "\n",
        "            # Redirect on success\n",
        "            return redirect(url_for('validation_success', submitted_username=username))\n",
        "\n",
        "    else:\n",
        "        # GET request: render the empty form\n",
        "        return render_template('manual_form.html', errors={})\n",
        "\n",
        "@app.route('/validation_success')\n",
        "def validation_success():\n",
        "    submitted_username = request.args.get('submitted_username', 'User')\n",
        "    return f'Validation successful! Data processed for {escape(submitted_username)}!'\n",
        "\n",
        "# --- Conceptual template file: templates/manual_form.html ---\n",
        "# <!doctype html>\n",
        "# <html>\n",
        "# <head><title>Manual Validation</title></head>\n",
        "# <body>\n",
        "#   <h1>Manual Form Validation Example</h1>\n",
        "#   <form method=\"POST\">\n",
        "#     <div>\n",
        "#       <label for=\"username\">Username:</label>\n",
        "#       <input type=\"text\" id=\"username\" name=\"username\" value=\"{{ username or '' }}\">\n",
        "#       {% if errors.get('username') %}\n",
        "#         <span style=\"color: red;\">{{ errors['username'] }}</span>\n",
        "#       {% endif %}\n",
        "#     </div>\n",
        "#     <div>\n",
        "#       <label for=\"password\">Password:</label>\n",
        "#       <input type=\"password\" id=\"password\" name=\"password\">\n",
        "#        {% if errors.get('password') %}\n",
        "#         <span style=\"color: red;\">{{ errors['password'] }}</span>\n",
        "#       {% endif %}\n",
        "#     </div>\n",
        "#      <div>\n",
        "#       <label for=\"email\">Email:</label>\n",
        "#       <input type=\"text\" id=\"email\" name=\"email\" value=\"{{ email or '' }}\">\n",
        "#        {% if errors.get('email') %}\n",
        "#         <span style=\"color: red;\">{{ errors['email'] }}</span>\n",
        "#       {% endif %}\n",
        "#     </div>\n",
        "#     <button type=\"submit\">Submit</button>\n",
        "#   </form>\n",
        "# </body>\n",
        "# </html>\n",
        "# ------------------------------------------------------------\n"
      ],
      "metadata": {
        "id": "qfZts89fAJWC"
      },
      "execution_count": null,
      "outputs": []
    },
    {
      "cell_type": "code",
      "source": [
        "# 8. How do you manage sessions in Flask?\n",
        "\n",
        "app = Flask(__name__)\n",
        "app.config['SECRET_KEY'] = 'your_highly_secret_random_key' # **IMPORTANT: Replace this with a real, complex secret key!**\n"
      ],
      "metadata": {
        "id": "Vzg4uLTdARQ3"
      },
      "execution_count": null,
      "outputs": []
    },
    {
      "cell_type": "code",
      "source": [
        "# 9. How do you redirect to a different route in Flask?\n",
        "\n",
        "from flask import Flask, redirect, url_for\n",
        "\n",
        "app = Flask(__name__)\n",
        "\n",
        "@app.route('/')\n",
        "def index():\n",
        "    return 'Welcome! Go to /login'\n",
        "\n",
        "@app.route('/login', methods=['GET', 'POST'])\n",
        "def login():\n",
        "    if request.method == 'POST':\n",
        "        # Assume successful login\n",
        "        # ... login logic here ...\n",
        "        return redirect(url_for('dashboard'))\n",
        "    else:\n",
        "        return 'This is the login page. (GET request)'\n",
        "\n",
        "@app.route('/dashboard')\n",
        "def dashboard():\n",
        "    return 'Welcome to the dashboard!'\n",
        "\n",
        "# To run this in Colab, you would typically use flask-ngrok\n",
        "# !pip install flask-ngrok\n",
        "# from flask_ngrok import run_with_ngrok\n",
        "# run_with_ngrok(app)\n",
        "# app.run()\n",
        "\n",
        "print(\"Flask app configured to demonstrate redirect.\")\n",
        "print(\"Run the app using flask-ngrok.\")\n",
        "print(\"A POST request to /login will redirect to /dashboard.\")\n"
      ],
      "metadata": {
        "id": "5XfRYuf2AZ5y"
      },
      "execution_count": null,
      "outputs": []
    },
    {
      "cell_type": "code",
      "source": [
        "# 10.  How do you handle errors in Flask (e.g., 404)?\n",
        "\n",
        "app = Flask(__name__)\n",
        "\n",
        "# Define a custom error handler for 404 Not Found errors\n",
        "@app.errorhandler(404)\n",
        "def page_not_found(error):\n",
        "    # This function will be called whenever a 404 error occurs\n",
        "    # The 'error' argument is an instance of werkzeug.exceptions.NotFound\n",
        "    print(f\"Handling 404 error: {error}\") # Log the error\n",
        "\n",
        "    # You can return a custom response, such as rendering a template\n",
        "    # Make sure you have a '404.html' file in your 'templates' folder\n",
        "    # Example: return render_template('404.html'), 404\n",
        "\n",
        "    # Or simply return a string or JSON\n",
        "    return \"Sorry, the page you requested could not be found.\", 404 # Return the response and status code\n",
        "\n",
        "# Define a custom error handler for 500 Internal Server Errors\n",
        "@app.errorhandler(500)\n",
        "def internal_server_error(error):\n",
        "    # This function will be called whenever a 500 error occurs\n",
        "    print(f\"Handling 500 error: {error}\") # Log the error\n",
        "\n",
        "    # You can return a custom response, such as rendering a template\n",
        "    # Example: return render_template('500.html'), 500\n",
        "\n",
        "    # Or simply return a string or JSON\n",
        "    return \"An internal server error occurred.\", 500 # Return the response and status code\n",
        "\n",
        "# Example route that might raise a 404\n",
        "@app.route('/nonexistent_page')\n",
        "def trigger_404():\n",
        "    # This route doesn't actually exist, so accessing /nonexistent_page will\n",
        "    # automatically trigger the 404 handler.\n",
        "    # Alternatively, you can explicitly abort with a status code:\n",
        "    from flask import abort\n",
        "    # abort(404)\n",
        "    return \"This route technically exists, but accessing a path that Flask doesn't know will trigger the 404.\"\n",
        "\n",
        "\n",
        "# Example route that might raise a 500\n",
        "@app.route('/error')\n",
        "def trigger_500():\n",
        "    # This will intentionally raise an exception, triggering the 500 handler.\n",
        "    result = 1 / 0\n",
        "    return \"This should not be reached.\"\n",
        "\n",
        "\n",
        "# To run this in Colab, you would typically use flask-ngrok\n",
        "# !pip install flask-ngrok\n",
        "# from flask_ngrok import run_with_ngrok\n",
        "# run_with_ngrok(app)\n",
        "# app.run()\n",
        "\n",
        "print(\"Flask app configured with error handlers for 404 and 500.\")\n",
        "print(\"Run the app using flask-ngrok.\")\n",
        "print(\"Navigate to a non-existent page (e.g., /some_random_path) to see the 404 handler.\")\n",
        "print(\"Navigate to /error to see the 500 handler.\")\n",
        "\n"
      ],
      "metadata": {
        "id": "Xj7w_aSxAhY3"
      },
      "execution_count": null,
      "outputs": []
    },
    {
      "cell_type": "code",
      "source": [
        "# 11. How do you structure a Flask app using Blueprints?\n",
        "\n",
        "from flask import Blueprint, Flask\n",
        "\n",
        "# Create a Blueprint instance\n",
        "# The first argument ('my_blueprint') is the name of the blueprint, used by url_for\n",
        "# The second argument (__name__) is the blueprint's import name, which Flask uses to locate resources\n",
        "my_blueprint = Blueprint('my_blueprint', __name__,\n",
        "                         template_folder='templates', # Specify template folder for this blueprint\n",
        "                         static_folder='static')     # Specify static folder for this blueprint\n",
        "\n",
        "\n",
        "# Define a route on the blueprint\n",
        "@my_blueprint.route('/blueprint_home')\n",
        "def blueprint_home():\n",
        "    return \"This is the home page of the blueprint!\"\n",
        "\n",
        "# Define another route on the blueprint\n",
        "@my_blueprint.route('/blueprint_greet/<name>')\n",
        "def blueprint_greet(name):\n",
        "    return f\"Hello from the blueprint, {name}!\"\n",
        "\n",
        "# You can also define error handlers specific to this blueprint (optional)\n",
        "# @my_blueprint.errorhandler(404)\n",
        "# def blueprint_page_not_found(error):\n",
        "#     return \"Blueprint: Sorry, that page wasn't found.\", 404\n",
        "\n",
        "# You can define static routes relative to the blueprint's static folder\n",
        "# Example: A file `my_blueprint/static/blueprint_style.css`\n",
        "# Could be accessed via `url_for('my_blueprint.static', filename='blueprint_style.css')`\n",
        "# or typically directly at `/my_blueprint/static/blueprint_style.css` if URL prefix is used.\n",
        "\n",
        "\n",
        "# --- Main Flask Application ---\n",
        "app = Flask(__name__)\n",
        "\n",
        "@app.route('/')\n",
        "def index():\n",
        "    # You can generate URLs for routes within the blueprint using the blueprint name as a prefix\n",
        "    blueprint_home_url = url_for('my_blueprint.blueprint_home')\n",
        "    blueprint_greet_url = url_for('my_blueprint.blueprint_greet', name='Alice')\n",
        "\n",
        "    return f\"\"\"\n",
        "    <h1>Main App</h1>\n",
        "    <p><a href=\"{blueprint_home_url}\">Go to Blueprint Home</a></p>\n",
        "    <p><a href=\"{blueprint_greet_url}\">Greet Alice via Blueprint</a></p>\n",
        "    \"\"\"\n",
        "\n",
        "# Register the blueprint with the main application\n",
        "# You can optionally add a url_prefix to make all blueprint routes start with that prefix\n",
        "app.register_blueprint(my_blueprint, url_prefix='/my_blueprint')\n",
        "\n",
        "# With url_prefix='/my_blueprint', the blueprint routes become:\n",
        "# /my_blueprint/blueprint_home\n",
        "# /my_blueprint/blueprint_greet/<name>\n",
        "\n",
        "\n",
        "# To run this in Colab, you would typically use flask-ngrok\n",
        "# !pip install flask-ngrok\n",
        "# from flask_ngrok import run_with_ngrok\n",
        "# run_with_ngrok(app)\n",
        "# app.run()\n",
        "\n",
        "print(\"Flask app structured with a Blueprint.\")\n",
        "print(\"The blueprint routes are registered under the /my_blueprint prefix.\")\n",
        "print(\"To test, install and use flask-ngrok and run app.run().\")\n",
        "print(\"Navigate to / or /my_blueprint/blueprint_home or /my_blueprint/blueprint_greet/YourName\")\n",
        "\n"
      ],
      "metadata": {
        "id": "uQtIEFLsAn4D"
      },
      "execution_count": null,
      "outputs": []
    },
    {
      "cell_type": "code",
      "source": [
        "# 12. How do you define a custom Jinja filter in Flask?\n",
        "\n",
        "# Assume 'app' is your Flask application instance\n",
        "# app = Flask(__name__) # If app is not already defined\n",
        "\n",
        "# Define your custom filter function\n",
        "def reverse_string_filter(s):\n",
        "  \"\"\"Reverses a string.\"\"\"\n",
        "  return s[::-1]\n",
        "\n",
        "def capitalize_words_filter(s):\n",
        "  \"\"\"Capitalizes the first letter of each word in a string.\"\"\"\n",
        "  if not isinstance(s, str):\n",
        "      return s # Handle non-string input gracefully\n",
        "  return ' '.join(word.capitalize() for word in s.split())\n",
        "\n",
        "\n",
        "# Register the filter with Flask's Jinja environment\n",
        "# The key in the dictionary is the name you'll use in the template\n",
        "app.jinja_env.filters['reverse_string'] = reverse_string_filter\n",
        "app.jinja_env.filters['capitalize_words'] = capitalize_words_filter\n",
        "\n",
        "\n",
        "# Example of a route that uses a template with the custom filter\n",
        "@app.route('/filtered_template')\n",
        "def show_filtered_template():\n",
        "    # You would need a 'templates' folder with a 'filtered.html' file\n",
        "    # Example content for templates/filtered.html:\n",
        "    # <!doctype html>\n",
        "    # <html>\n",
        "    # <head><title>Filtered Data</title></head>\n",
        "    # <body>\n",
        "    #   <h1>Original: {{ my_string }}</h1>\n",
        "    #   <p>Reversed: {{ my_string | reverse_string }}</p>\n",
        "    #   <p>Capitalized: {{ another_string | capitalize_words }}</p>\n",
        "    # </body>\n",
        "    # </html>\n",
        "    return render_template('filtered.html', my_string='hello world', another_string='this is a sentence')\n",
        "\n",
        "\n",
        "print(\"Custom Jinja filters 'reverse_string' and 'capitalize_words' registered.\")\n",
        "print(\"Create a 'templates' folder and put a 'filtered.html' file inside to test.\")\n",
        "print(\"To test, install and use flask-ngrok and run app.run().\")\n",
        "print(\"Then navigate to the /filtered_template route.\")\n"
      ],
      "metadata": {
        "id": "WtY3JsjGAwMP"
      },
      "execution_count": null,
      "outputs": []
    },
    {
      "cell_type": "code",
      "source": [
        "# 13.  How can you redirect with query parameters in Flask?\n",
        "\n",
        "app = Flask(__name__)\n",
        "\n",
        "@app.route('/old_route')\n",
        "def old_route():\n",
        "    # Original logic that might have parameters\n",
        "    data_id = request.args.get('id', 'default')\n",
        "    status = request.args.get('status', 'pending')\n",
        "\n",
        "    print(f\"Redirecting from old_route with id={data_id}, status={status}\")\n",
        "\n",
        "    # Redirect to the new route, passing the parameters as query parameters\n",
        "    # url_for takes the endpoint name of the target route\n",
        "    # Additional keyword arguments are added as query parameters\n",
        "    return redirect(url_for('new_route', item_id=data_id, state=status))\n",
        "\n",
        "@app.route('/new_route')\n",
        "def new_route():\n",
        "    # Access the query parameters passed during the redirect\n",
        "    item_id = request.args.get('item_id', 'N/A')\n",
        "    state = request.args.get('state', 'unknown')\n",
        "\n",
        "    return f\"Welcome to the new route!<br>Received item_id: {escape(item_id)}<br>Received state: {escape(state)}\"\n",
        "\n",
        "# To run this in Colab, you would typically use flask-ngrok\n",
        "# !pip install flask-ngrok\n",
        "# from flask_ngrok import run_with_ngrok\n",
        "# run_with_ngrok(app)\n",
        "# app.run()\n",
        "\n",
        "print(\"Flask app configured to demonstrate redirection with query parameters.\")\n",
        "print(\"Run the app using flask-ngrok.\")\n",
        "print(\"Navigate to /old_route (optionally with query params like /old_route?id=123&status=active)\")\n",
        "print(\"You should be redirected to /new_route and see the passed parameters.\")\n"
      ],
      "metadata": {
        "id": "HM_ScERoA6Tb"
      },
      "execution_count": null,
      "outputs": []
    },
    {
      "cell_type": "code",
      "source": [
        "# 14.  How can you redirect with query parameters in Flask?\n",
        "\n",
        "@app.route('/old_route')\n",
        "def old_route():\n",
        "    # Original logic that might have parameters\n",
        "    data_id = request.args.get('id', 'default')\n",
        "    status = request.args.get('status', 'pending')\n",
        "\n",
        "    print(f\"Redirecting from old_route with id={data_id}, status={status}\")\n",
        "\n",
        "    # Redirect to the new route, passing the parameters as query parameters\n",
        "    # url_for takes the endpoint name of the target route ('new_route')\n",
        "    # Additional keyword arguments (item_id=data_id, state=status) are added as query parameters\n",
        "    return redirect(url_for('new_route', item_id=data_id, state=status))\n",
        "\n",
        "@app.route('/new_route')\n",
        "def new_route():\n",
        "    # Access the query parameters passed during the redirect\n",
        "    item_id = request.args.get('item_id', 'N/A')\n",
        "    state = request.args.get('state', 'unknown')\n",
        "\n",
        "    return f\"Welcome to the new route!<br>Received item_id: {escape(item_id)}<br>Received state: {escape(state)}\"\n"
      ],
      "metadata": {
        "id": "JkTmVg_cBFUi"
      },
      "execution_count": null,
      "outputs": []
    },
    {
      "cell_type": "code",
      "source": [
        "# 15. How do you capture URL parameters in Flask?\n",
        "\n",
        "from flask import Flask, request\n",
        "\n",
        "app = Flask(__name__)\n",
        "\n",
        "# The <username> part is a dynamic route parameter\n",
        "@app.route('/users/<username>')\n",
        "def show_user_profile(username):\n",
        "        # 'username' is captured directly from the URL path\n",
        "        return f'User: {username}'\n",
        "\n",
        "# Route with a different type (integer)\n",
        "    @app.route('/posts/<int:post_id>')\n",
        "    def show_post(post_id):\n",
        "        # 'post_id' is captured and automatically converted to an integer\n",
        "        return f'Post ID: {post_id}'\n",
        "\n",
        "# Multiple dynamic parameters\n",
        "    @app.route('/items/<item_type>/<int:item_id>')\n",
        "    def show_item(item_type, item_id):\n",
        "        return f'Item Type: {item_type}, Item ID: {item_id}'\n",
        "\n",
        "# To run this in Colab with ngrok:\n",
        "# !pip install flask-ngrok\n",
        "# from flask_ngrok import run_with_ngrok\n",
        "# run_with_ngrok(app)\n",
        "# app.run()\n",
        "\n",
        "    print(\"Flask app configured with dynamic route parameters.\")\n",
        "    print(\"Run the app using flask-ngrok.\")\n",
        "    print(\"Navigate to /users/Alice or /posts/123 or /items/book/456\")\n",
        ""
      ],
      "metadata": {
        "id": "5hE0tttTBMA5"
      },
      "execution_count": null,
      "outputs": []
    }
  ]
}